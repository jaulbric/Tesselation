{
 "cells": [
  {
   "cell_type": "code",
   "execution_count": 1,
   "metadata": {},
   "outputs": [],
   "source": [
    "import numpy as np\n",
    "import youngtableaux as yt"
   ]
  },
  {
   "cell_type": "code",
   "execution_count": 2,
   "metadata": {},
   "outputs": [
    {
     "name": "stdout",
     "output_type": "stream",
     "text": [
      "[3 3 3 4]\n"
     ]
    }
   ],
   "source": [
    "N = 5 # As an example\n",
    "p = np.random.randint(5, size=N-1) # Generate a random array of length N-1 containing integers from [0,5)\n",
    "print(p)"
   ]
  },
  {
   "cell_type": "code",
   "execution_count": 3,
   "metadata": {},
   "outputs": [
    {
     "name": "stdout",
     "output_type": "stream",
     "text": [
      "9.0\n"
     ]
    }
   ],
   "source": [
    "kmin = yt.kmin(p)\n",
    "print(kmin)"
   ]
  },
  {
   "cell_type": "code",
   "execution_count": 5,
   "metadata": {},
   "outputs": [
    {
     "name": "stdout",
     "output_type": "stream",
     "text": [
      "DecomposeProduct[Irrep[A][3,3,3,4], Irrep[A][1,0,0,0], Irrep[A][1,0,0,1], Irrep[A][1,0,0,1], Irrep[A][1,0,0,1], Irrep[A][1,0,0,1], Irrep[A][1,0,0,1], Irrep[A][1,0,0,1], Irrep[A][1,0,0,1], Irrep[A][1,0,0,1], Irrep[A][1,0,0,1]]\n"
     ]
    }
   ],
   "source": [
    "i = N - yt.Nality(p)\n",
    "\n",
    "p_str = \",\".join(p.astype('str'))\n",
    "Q_i = np.zeros(N-1, dtype=int)\n",
    "Q_i[i-1] = 1\n",
    "q_str = \",\".join(Q_i.astype('str'))\n",
    "G = np.zeros(N-1, dtype=int)\n",
    "G[0] = 1\n",
    "G[-1] = 1\n",
    "g_str = \",\".join(G.astype('str'))\n",
    "\n",
    "irrep_x = \"Irrep[A][\" + p_str + \"]\"\n",
    "irrep_q = \"Irrep[A][\" + q_str + \"]\"\n",
    "irrep_g = \"Irrep[A][\" + g_str + \"]\"\n",
    "\n",
    "mathematica_str = \"DecomposeProduct[\" + irrep_x + \", \" + irrep_q + \", \" + \", \".join([irrep_g for idx in range(0, int(kmin))]) + \"]\"\n",
    "\n",
    "print(mathematica_str)"
   ]
  }
 ],
 "metadata": {
  "kernelspec": {
   "display_name": "Python 3",
   "language": "python",
   "name": "python3"
  },
  "language_info": {
   "codemirror_mode": {
    "name": "ipython",
    "version": 3
   },
   "file_extension": ".py",
   "mimetype": "text/x-python",
   "name": "python",
   "nbconvert_exporter": "python",
   "pygments_lexer": "ipython3",
   "version": "3.7.4"
  },
  "latex_envs": {
   "LaTeX_envs_menu_present": true,
   "autoclose": false,
   "autocomplete": true,
   "bibliofile": "biblio.bib",
   "cite_by": "apalike",
   "current_citInitial": 1,
   "eqLabelWithNumbers": true,
   "eqNumInitial": 1,
   "hotkeys": {
    "equation": "Ctrl-E",
    "itemize": "Ctrl-I"
   },
   "labels_anchors": false,
   "latex_user_defs": false,
   "report_style_numbering": false,
   "user_envs_cfg": false
  }
 },
 "nbformat": 4,
 "nbformat_minor": 4
}
