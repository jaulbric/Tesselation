{
 "cells": [
  {
   "cell_type": "markdown",
   "metadata": {},
   "source": [
    "# Tesselation Example\n",
    "\n",
    "In this example we show how to use the code to construct the minimum number of copies of the adjoint representation such that\n",
    "\n",
    "$$\\mathbb{1} \\subset X \\otimes Q_{i} \\otimes G^{\\otimes k}_{N}$$\n",
    "\n",
    "where $\\mathbb{1}$ is the trivial representation, $Q_{i}$ is the i'th fundamental, $G^{\\otimes k}_{N} = \\underbrace{G_{N} \\otimes \\dotsb \\otimes G_{N}}_{k}$ is $k$ copies of the adjoint representation, and $X$ has Dynkin label $(p_{1}, p_{2}, \\ldots, p_{N - 1})$."
   ]
  },
  {
   "cell_type": "code",
   "execution_count": 1,
   "metadata": {},
   "outputs": [],
   "source": [
    "import numpy as np\n",
    "import tesselation as yt\n",
    "from IPython.display import display, Math"
   ]
  },
  {
   "cell_type": "markdown",
   "metadata": {},
   "source": [
    "We first construct the irreducible representations given in the paper."
   ]
  },
  {
   "cell_type": "code",
   "execution_count": 2,
   "metadata": {},
   "outputs": [],
   "source": [
    "X1 = [3, 0, 0, 1]\n",
    "X2 = [0, 2, 1, 0]\n",
    "X3 = [0, 0, 1, 1]\n",
    "X4 = [1, 3, 0, 0]"
   ]
  },
  {
   "cell_type": "markdown",
   "metadata": {},
   "source": [
    "For all of these examples $N = 5$, and the N-ality is $2$. Thus we require $i = 3$ so that $X \\otimes Q_{i}$ has N-ality $0$. For each irrep we print the optimum irrep in the tensor product $X \\otimes Q_{i}$:"
   ]
  },
  {
   "cell_type": "code",
   "execution_count": 3,
   "metadata": {},
   "outputs": [
    {
     "data": {
      "text/latex": [
       "$\\displaystyle X_1 \\colon \\;\\ell_{1} =1 \\quad \\ell_{2} =4$"
      ],
      "text/plain": [
       "<IPython.core.display.Math object>"
      ]
     },
     "metadata": {},
     "output_type": "display_data"
    },
    {
     "data": {
      "text/latex": [
       "$\\displaystyle X_2 \\colon \\;\\ell_{1} =2 \\quad \\ell_{2} =3$"
      ],
      "text/plain": [
       "<IPython.core.display.Math object>"
      ]
     },
     "metadata": {},
     "output_type": "display_data"
    },
    {
     "data": {
      "text/latex": [
       "$\\displaystyle X_3 \\colon \\;\\ell_{1} =0 \\quad \\ell_{2} =3$"
      ],
      "text/plain": [
       "<IPython.core.display.Math object>"
      ]
     },
     "metadata": {},
     "output_type": "display_data"
    },
    {
     "data": {
      "text/latex": [
       "$\\displaystyle X_4 \\colon \\;\\ell_{1} =2 \\quad \\ell_{2} =5$"
      ],
      "text/plain": [
       "<IPython.core.display.Math object>"
      ]
     },
     "metadata": {},
     "output_type": "display_data"
    }
   ],
   "source": [
    "idx = 1\n",
    "for x in [X1, X2, X3, X4]:\n",
    "    l1, l2 = yt.l_pair(x, 3) # Calculate l1 and l2, we set i = 3 for all cases.\n",
    "    display(Math(r\"$X_{} \\colon \\;\".format(idx) + r\"\\ell_{1} =\" + r\"{}\".format(l1) + r\" \\quad \" + r\"\\ell_{2} =\" + r\"{}$\".format(l2)))\n",
    "    idx += 1"
   ]
  },
  {
   "cell_type": "code",
   "execution_count": 4,
   "metadata": {},
   "outputs": [
    {
     "data": {
      "text/latex": [
       "$\\displaystyle X_1 \\colon \\;\\left(2, 0, 1, 0\\right)$"
      ],
      "text/plain": [
       "<IPython.core.display.Math object>"
      ]
     },
     "metadata": {},
     "output_type": "display_data"
    },
    {
     "data": {
      "text/latex": [
       "$\\displaystyle X_2 \\colon \\;\\left(0, 1, 1, 0\\right)$"
      ],
      "text/plain": [
       "<IPython.core.display.Math object>"
      ]
     },
     "metadata": {},
     "output_type": "display_data"
    },
    {
     "data": {
      "text/latex": [
       "$\\displaystyle X_3 \\colon \\;\\left(1, 0, 0, 1\\right)$"
      ],
      "text/plain": [
       "<IPython.core.display.Math object>"
      ]
     },
     "metadata": {},
     "output_type": "display_data"
    },
    {
     "data": {
      "text/latex": [
       "$\\displaystyle X_4 \\colon \\;\\left(1, 2, 0, 0\\right)$"
      ],
      "text/plain": [
       "<IPython.core.display.Math object>"
      ]
     },
     "metadata": {},
     "output_type": "display_data"
    }
   ],
   "source": [
    "idx = 1\n",
    "for x in [X1, X2, X3, X4]:\n",
    "    fj = yt.fj(x)\n",
    "    display(Math(r\"$X_{0} \\colon \\;\".format(idx) + r\"\\left({0}, {1}, {2}, {3}\\right)$\".format(*tuple(fj))))\n",
    "    idx += 1"
   ]
  },
  {
   "cell_type": "markdown",
   "metadata": {},
   "source": [
    "Now we calculate the number of copies of the adjoint such that the operator is gauge invariant."
   ]
  },
  {
   "cell_type": "code",
   "execution_count": 5,
   "metadata": {},
   "outputs": [
    {
     "data": {
      "text/latex": [
       "$\\displaystyle X_1 \\colon \\;k_{\\mathrm{min}} = 2 \\quad \\Rightarrow \\quad \\mathbb{1} \\subset X_1 \\otimes Q_{3} \\otimes G_{N}\\otimes G_{N}$"
      ],
      "text/plain": [
       "<IPython.core.display.Math object>"
      ]
     },
     "metadata": {},
     "output_type": "display_data"
    },
    {
     "data": {
      "text/latex": [
       "$\\displaystyle X_2 \\colon \\;k_{\\mathrm{min}} = 2 \\quad \\Rightarrow \\quad \\mathbb{1} \\subset X_2 \\otimes Q_{3} \\otimes G_{N}\\otimes G_{N}$"
      ],
      "text/plain": [
       "<IPython.core.display.Math object>"
      ]
     },
     "metadata": {},
     "output_type": "display_data"
    },
    {
     "data": {
      "text/latex": [
       "$\\displaystyle X_3 \\colon \\;k_{\\mathrm{min}} = 1 \\quad \\Rightarrow \\quad \\mathbb{1} \\subset X_3 \\otimes Q_{3} \\otimes G_{N}$"
      ],
      "text/plain": [
       "<IPython.core.display.Math object>"
      ]
     },
     "metadata": {},
     "output_type": "display_data"
    },
    {
     "data": {
      "text/latex": [
       "$\\displaystyle X_4 \\colon \\;k_{\\mathrm{min}} = 3 \\quad \\Rightarrow \\quad \\mathbb{1} \\subset X_4 \\otimes Q_{3} \\otimes G_{N}\\otimes G_{N}\\otimes G_{N}$"
      ],
      "text/plain": [
       "<IPython.core.display.Math object>"
      ]
     },
     "metadata": {},
     "output_type": "display_data"
    }
   ],
   "source": [
    "idx = 1\n",
    "for x in [X1, X2, X3, X4]:\n",
    "    kmin = yt.kmin(x) # Calculates kmin given the Dynkin label for X\n",
    "    display(Math(r\"$X_{0} \\colon \\;\".format(idx)\n",
    "                 + r\"k_{\\mathrm{min}} = \"\n",
    "                 + r\"{} \\quad \\Rightarrow \\quad \".format(kmin)\n",
    "                 + r\"\\mathbb{1} \\subset \"\n",
    "                 + r\"X_{} \".format(idx)\n",
    "                 + r\"\\otimes Q_{3} \"\n",
    "                 + kmin * r\"\\otimes G_{N}\"\n",
    "                 + r\"$\"))\n",
    "    idx += 1"
   ]
  },
  {
   "cell_type": "markdown",
   "metadata": {},
   "source": [
    "In order to check if this actually works we can print a quick string of Mathematica code that can be used with the LieART package (https://arxiv.org/abs/1912.10969)."
   ]
  },
  {
   "cell_type": "code",
   "execution_count": 6,
   "metadata": {},
   "outputs": [
    {
     "name": "stdout",
     "output_type": "stream",
     "text": [
      "DecomposeProduct[Irrep[A][3,0,0,1], Irrep[A][0,0,1,0], Irrep[A][1,0,0,1], Irrep[A][1,0,0,1]]\n",
      "DecomposeProduct[Irrep[A][0,2,1,0], Irrep[A][0,0,1,0], Irrep[A][1,0,0,1], Irrep[A][1,0,0,1]]\n",
      "DecomposeProduct[Irrep[A][0,0,1,1], Irrep[A][0,0,1,0], Irrep[A][1,0,0,1]]\n",
      "DecomposeProduct[Irrep[A][1,3,0,0], Irrep[A][0,0,1,0], Irrep[A][1,0,0,1], Irrep[A][1,0,0,1], Irrep[A][1,0,0,1]]\n"
     ]
    }
   ],
   "source": [
    "N = 5\n",
    "for x in [X1, X2, X3, X4]:\n",
    "    i = N - yt.Nality(x)\n",
    "    kmin = yt.kmin(x)\n",
    "\n",
    "    p_str = \",\".join(np.array(x).astype('str'))\n",
    "    Q_i = np.zeros(N-1, dtype=int)\n",
    "    Q_i[i-1] = 1\n",
    "    q_str = \",\".join(Q_i.astype('str'))\n",
    "    G = np.zeros(N-1, dtype=int)\n",
    "    G[0] = 1\n",
    "    G[-1] = 1\n",
    "    g_str = \",\".join(G.astype('str'))\n",
    "\n",
    "    irrep_x = \"Irrep[A][\" + p_str + \"]\"\n",
    "    irrep_q = \"Irrep[A][\" + q_str + \"]\"\n",
    "    irrep_g = \"Irrep[A][\" + g_str + \"]\"\n",
    "\n",
    "    mathematica_str = \"DecomposeProduct[\" + irrep_x + \", \" + irrep_q + \", \" + \", \".join([irrep_g for idx in range(0, int(kmin))]) + \"]\"\n",
    "\n",
    "    print(mathematica_str)"
   ]
  },
  {
   "cell_type": "markdown",
   "metadata": {},
   "source": [
    "The Mathematica output for the above code indicates that the trivial representation is indeed present in the tensor product."
   ]
  },
  {
   "cell_type": "code",
   "execution_count": 7,
   "metadata": {},
   "outputs": [
    {
     "data": {
      "text/html": [
       "\n",
       "        <iframe\n",
       "            width=\"800\"\n",
       "            height=\"1150\"\n",
       "            src=\"Mathematica_output.pdf\"\n",
       "            frameborder=\"0\"\n",
       "            allowfullscreen\n",
       "        ></iframe>\n",
       "        "
      ],
      "text/plain": [
       "<IPython.lib.display.IFrame at 0x7ff5ce897dd0>"
      ]
     },
     "execution_count": 7,
     "metadata": {},
     "output_type": "execute_result"
    }
   ],
   "source": [
    "from IPython.display import IFrame\n",
    "IFrame(\"images/Mathematica_output.pdf\", width=800, height=1150)"
   ]
  },
  {
   "cell_type": "code",
   "execution_count": null,
   "metadata": {},
   "outputs": [],
   "source": []
  }
 ],
 "metadata": {
  "kernelspec": {
   "display_name": "Python 3",
   "language": "python",
   "name": "python3"
  },
  "language_info": {
   "codemirror_mode": {
    "name": "ipython",
    "version": 3
   },
   "file_extension": ".py",
   "mimetype": "text/x-python",
   "name": "python",
   "nbconvert_exporter": "python",
   "pygments_lexer": "ipython3",
   "version": "3.7.4"
  },
  "latex_envs": {
   "LaTeX_envs_menu_present": true,
   "autoclose": false,
   "autocomplete": true,
   "bibliofile": "biblio.bib",
   "cite_by": "apalike",
   "current_citInitial": 1,
   "eqLabelWithNumbers": true,
   "eqNumInitial": 1,
   "hotkeys": {
    "equation": "Ctrl-E",
    "itemize": "Ctrl-I"
   },
   "labels_anchors": false,
   "latex_user_defs": false,
   "report_style_numbering": false,
   "user_envs_cfg": false
  }
 },
 "nbformat": 4,
 "nbformat_minor": 4
}
